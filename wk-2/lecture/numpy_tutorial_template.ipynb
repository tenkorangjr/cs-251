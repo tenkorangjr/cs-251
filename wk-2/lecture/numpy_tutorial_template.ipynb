{
 "cells": [
  {
   "cell_type": "markdown",
   "metadata": {},
   "source": [
    "# NumPy tutorial\n",
    "\n",
    "Oliver W. Layton\n",
    "\n",
    "CS251: Data Analysis and Visualization\n",
    "\n",
    "Spring 2024"
   ]
  },
  {
   "cell_type": "code",
   "execution_count": null,
   "metadata": {},
   "outputs": [],
   "source": [
    "import numpy as np\n",
    "import time"
   ]
  },
  {
   "cell_type": "markdown",
   "metadata": {},
   "source": [
    "## Numpy ndarray basics"
   ]
  },
  {
   "cell_type": "markdown",
   "metadata": {},
   "source": [
    "### Creation from Python lists"
   ]
  },
  {
   "cell_type": "code",
   "execution_count": null,
   "metadata": {},
   "outputs": [],
   "source": [
    "# Make a numpy array from a 2D python list\n"
   ]
  },
  {
   "cell_type": "code",
   "execution_count": null,
   "metadata": {},
   "outputs": [],
   "source": [
    "# print it\n"
   ]
  },
  {
   "cell_type": "markdown",
   "metadata": {},
   "source": [
    "### Data type of ndarray"
   ]
  },
  {
   "cell_type": "code",
   "execution_count": null,
   "metadata": {},
   "outputs": [],
   "source": [
    "# determine data type\n",
    "print('Type of array is\\n', )"
   ]
  },
  {
   "cell_type": "markdown",
   "metadata": {},
   "source": [
    "Type can be changed in a few ways. \n",
    "\n",
    "1. when creating array — (a) implicitly or (b) explicitly\n",
    "2. by casting types."
   ]
  },
  {
   "cell_type": "code",
   "execution_count": null,
   "metadata": {},
   "outputs": [],
   "source": [
    "# 1a implicitly\n",
    "arr = np.array([[1, 2, 3], [4, 5, 6], [7, 8, 9]])\n"
   ]
  },
  {
   "cell_type": "code",
   "execution_count": null,
   "metadata": {},
   "outputs": [],
   "source": [
    "# 1b explicitly\n",
    "arr = np.array([[1, 2, 3], [4, 5, 6], [7, 8, 9]])\n"
   ]
  },
  {
   "cell_type": "code",
   "execution_count": null,
   "metadata": {},
   "outputs": [],
   "source": [
    "# 2. NOTE: This is a METHOD of the array, not a FUNCTION\n",
    "arr = np.array([[1, 2, 3], [4, 5, 6], [7, 8, 9]])\n"
   ]
  },
  {
   "cell_type": "code",
   "execution_count": null,
   "metadata": {},
   "outputs": [],
   "source": [
    "# Can also be string. be careful in your CSV parser that your \"numbers\"\n",
    "# aren't actually strings!\n",
    "arr = np.array([[1, 2, 3], [4, 5, 6], [7, 8, 9]])\n"
   ]
  },
  {
   "cell_type": "markdown",
   "metadata": {},
   "source": [
    "### Convert back to Python list"
   ]
  },
  {
   "cell_type": "code",
   "execution_count": null,
   "metadata": {},
   "outputs": [],
   "source": [
    "# Convert back from ndarray to Python list\n",
    "\n",
    "print('Back as a Python list:\\n', arrAsList)"
   ]
  },
  {
   "cell_type": "markdown",
   "metadata": {},
   "source": [
    "### Other ways to create ndarrays quickly"
   ]
  },
  {
   "cell_type": "markdown",
   "metadata": {},
   "source": [
    "#### 1. zeros\n",
    "\n",
    "- We can plug in a list to get a multi-dimensional array\n",
    "- We can plug in one int to get a vector of values"
   ]
  },
  {
   "cell_type": "code",
   "execution_count": null,
   "metadata": {},
   "outputs": [],
   "source": []
  },
  {
   "cell_type": "code",
   "execution_count": null,
   "metadata": {},
   "outputs": [],
   "source": []
  },
  {
   "cell_type": "markdown",
   "metadata": {},
   "source": [
    "#### 2. ones"
   ]
  },
  {
   "cell_type": "code",
   "execution_count": null,
   "metadata": {},
   "outputs": [],
   "source": []
  },
  {
   "cell_type": "code",
   "execution_count": null,
   "metadata": {},
   "outputs": [],
   "source": [
    "# can easily make any constant array\n"
   ]
  },
  {
   "cell_type": "markdown",
   "metadata": {},
   "source": [
    "#### 3. Random values"
   ]
  },
  {
   "cell_type": "code",
   "execution_count": null,
   "metadata": {},
   "outputs": [],
   "source": [
    "# Uniform random values\n"
   ]
  },
  {
   "cell_type": "markdown",
   "metadata": {},
   "source": [
    "#### 4. Equally spaced floats in an interval"
   ]
  },
  {
   "cell_type": "code",
   "execution_count": null,
   "metadata": {},
   "outputs": [],
   "source": []
  },
  {
   "cell_type": "markdown",
   "metadata": {},
   "source": [
    "#### 5. Equally spaced ints in an interval"
   ]
  },
  {
   "cell_type": "code",
   "execution_count": null,
   "metadata": {},
   "outputs": [],
   "source": []
  },
  {
   "cell_type": "markdown",
   "metadata": {},
   "source": [
    "#### 6. Identity matrix"
   ]
  },
  {
   "cell_type": "code",
   "execution_count": null,
   "metadata": {},
   "outputs": [],
   "source": [
    "np.eye(10)"
   ]
  },
  {
   "cell_type": "markdown",
   "metadata": {},
   "source": [
    "### Check dimensions — `shape`"
   ]
  },
  {
   "cell_type": "code",
   "execution_count": null,
   "metadata": {},
   "outputs": [],
   "source": [
    "# check shape of 3D array\n"
   ]
  },
  {
   "cell_type": "code",
   "execution_count": null,
   "metadata": {},
   "outputs": [],
   "source": [
    "# check number of dimensions (M)\n"
   ]
  },
  {
   "cell_type": "code",
   "execution_count": null,
   "metadata": {},
   "outputs": [],
   "source": [
    "# Access 1st dim (#rows), 2nd dim (#cols) (Use f-string)\n"
   ]
  },
  {
   "cell_type": "code",
   "execution_count": null,
   "metadata": {},
   "outputs": [],
   "source": [
    "# Check number of elements total\n",
    "print('Num elements in arr_1:', )"
   ]
  },
  {
   "cell_type": "code",
   "execution_count": null,
   "metadata": {},
   "outputs": [],
   "source": [
    "# the familar Python len function works on ndarrays (any number of dims).\n",
    "# It returns the shape (length) of the 1st dimension"
   ]
  },
  {
   "cell_type": "markdown",
   "metadata": {},
   "source": [
    "## ndarray indexing\n",
    "\n",
    "Basic Accessing and modifying of ndarrays."
   ]
  },
  {
   "cell_type": "markdown",
   "metadata": {},
   "source": [
    "### Access and modify single elements"
   ]
  },
  {
   "cell_type": "code",
   "execution_count": null,
   "metadata": {},
   "outputs": [],
   "source": [
    "# To access elements in a multidimensional ndarray use ONE set of square brackets []\n",
    "# Make a new random array\n",
    "np.random.seed(0)  # ensures random numbers come up the same each time. Useful for debugging.\n"
   ]
  },
  {
   "cell_type": "code",
   "execution_count": null,
   "metadata": {},
   "outputs": [],
   "source": [
    "# Get the 1st element\n"
   ]
  },
  {
   "cell_type": "code",
   "execution_count": null,
   "metadata": {},
   "outputs": [],
   "source": [
    "# Modifying single values is similar\n",
    "\n",
    "print('arr is now:\\n', arr)"
   ]
  },
  {
   "cell_type": "markdown",
   "metadata": {},
   "source": [
    "### Slicing: real power of numpy\n",
    "\n",
    "Use **colon** notation for all values in a dimension\n",
    "\n",
    "Access and modify different ranges of data along different dimensions "
   ]
  },
  {
   "cell_type": "markdown",
   "metadata": {},
   "source": [
    "Make a 3x5 random array. Access 2nd column"
   ]
  },
  {
   "cell_type": "code",
   "execution_count": null,
   "metadata": {},
   "outputs": [],
   "source": [
    "np.random.seed(0)\n"
   ]
  },
  {
   "cell_type": "code",
   "execution_count": null,
   "metadata": {},
   "outputs": [],
   "source": []
  },
  {
   "cell_type": "markdown",
   "metadata": {},
   "source": [
    "Access 1st row"
   ]
  },
  {
   "cell_type": "code",
   "execution_count": null,
   "metadata": {},
   "outputs": [],
   "source": []
  },
  {
   "cell_type": "markdown",
   "metadata": {},
   "source": [
    "Access last 2 columns"
   ]
  },
  {
   "cell_type": "code",
   "execution_count": null,
   "metadata": {},
   "outputs": [],
   "source": []
  },
  {
   "cell_type": "markdown",
   "metadata": {},
   "source": [
    "Access columns at indices 1-2 and in 1st row. Careful about off-by-one.\n",
    "\n",
    "- Low range (before :) CONTAINS that index\n",
    "- High range (after :) DOES NOT contain that index (i-1)"
   ]
  },
  {
   "cell_type": "code",
   "execution_count": null,
   "metadata": {},
   "outputs": [],
   "source": []
  },
  {
   "cell_type": "markdown",
   "metadata": {},
   "source": [
    "Use slicing to assign values efficiently in batch without loops"
   ]
  },
  {
   "cell_type": "code",
   "execution_count": null,
   "metadata": {},
   "outputs": [],
   "source": [
    "# Assign 1st row to -1s\n"
   ]
  },
  {
   "cell_type": "code",
   "execution_count": null,
   "metadata": {},
   "outputs": [],
   "source": [
    "# Assign 1st row to increasing ints\n"
   ]
  },
  {
   "cell_type": "code",
   "execution_count": null,
   "metadata": {},
   "outputs": [],
   "source": [
    "# Multiply the 3rd row by 5 times itself and update the row\n"
   ]
  },
  {
   "cell_type": "markdown",
   "metadata": {},
   "source": [
    "### What if we want to access a select set of rows in multiple columns?\n",
    "\n",
    "Example: Say we want the first and last row and and columns 1, 3, and 5. If we try this with slicing, it won't work!\n",
    "\n",
    "Can't use regular indexing notation. Instead use `np.ix_`"
   ]
  },
  {
   "cell_type": "code",
   "execution_count": null,
   "metadata": {},
   "outputs": [],
   "source": [
    "# This doesn't work!\n",
    "# arr[[0, -1], [0, 2, 4]]"
   ]
  },
  {
   "cell_type": "markdown",
   "metadata": {},
   "source": [
    "**Syntax for `np.ix_`:**\n",
    "- `np.ix_` goes inside the square brackets: `arr[np.ix_(blah)]`\n",
    "- Give it `M` arguments (e.g. 2 for a 2D matrix).\n",
    "- Each argument is a Python list (or ndarray) of indices to take along that dimension."
   ]
  },
  {
   "cell_type": "code",
   "execution_count": null,
   "metadata": {},
   "outputs": [
    {
     "data": {
      "text/plain": [
       "array([[-1.        , -1.        , -1.        ],\n",
       "       [ 3.95862519,  2.84022281,  0.35518029]])"
      ]
     },
     "metadata": {},
     "output_type": "display_data"
    }
   ],
   "source": []
  },
  {
   "cell_type": "markdown",
   "metadata": {},
   "source": [
    "## Memory\n",
    "\n",
    "- Numpy tries to be efficient with arrays so assignment does a shallow copy. To do a deep copy, you need to use `.copy()` method"
   ]
  },
  {
   "cell_type": "code",
   "execution_count": null,
   "metadata": {},
   "outputs": [],
   "source": [
    "a = np.linspace(-1, 1, 5)\n",
    "a"
   ]
  },
  {
   "cell_type": "code",
   "execution_count": null,
   "metadata": {},
   "outputs": [],
   "source": [
    "\n",
    "print(b)"
   ]
  },
  {
   "cell_type": "code",
   "execution_count": null,
   "metadata": {},
   "outputs": [],
   "source": [
    "# changed a!\n",
    "a"
   ]
  },
  {
   "cell_type": "code",
   "execution_count": null,
   "metadata": {},
   "outputs": [],
   "source": [
    "# fixed with .copy()\n"
   ]
  },
  {
   "cell_type": "markdown",
   "metadata": {},
   "source": [
    "## Apply functions over dimensions (`axes`)\n",
    "\n",
    "- Axes are the numpy term for different ndarray dimensions. \n",
    "- *Idea*: Do we want to apply an operation (e.g. sum) on the rows OR columns of a ndarray?\n",
    "- *Example*: axis 0 are the rows, axis 1 are the columns, etc.\n",
    "- We can apply functions over one or more axis super efficiently in one line of code! This is called **Vectorization** — MUCH MUCH faster than loops (stay tuned)."
   ]
  },
  {
   "cell_type": "code",
   "execution_count": null,
   "metadata": {},
   "outputs": [],
   "source": [
    "one = np.array([[1, 1, 1], [2, 2, 2], [3, 3, 3], [4, 4, 4]])\n",
    "one"
   ]
  },
  {
   "cell_type": "markdown",
   "metadata": {},
   "source": [
    "Sum along rows -> \"collapse\" across rows to get sum within each column — 3 numbers"
   ]
  },
  {
   "cell_type": "code",
   "execution_count": null,
   "metadata": {},
   "outputs": [],
   "source": []
  },
  {
   "cell_type": "markdown",
   "metadata": {},
   "source": [
    "Sum along columns -> \"collapse\" across columns to get sum within each row — 4 numbers"
   ]
  },
  {
   "cell_type": "code",
   "execution_count": null,
   "metadata": {},
   "outputs": [],
   "source": []
  },
  {
   "cell_type": "markdown",
   "metadata": {},
   "source": [
    "**Careful:** Applying a function without specifying the axis may compute across the ENTIRE ndarray."
   ]
  },
  {
   "cell_type": "code",
   "execution_count": null,
   "metadata": {},
   "outputs": [],
   "source": []
  },
  {
   "cell_type": "markdown",
   "metadata": {},
   "source": [
    "**Mnemonic trick:** Applying a function along an axis eliminates that dimension from the shape. Left with remaining dimensions."
   ]
  },
  {
   "cell_type": "code",
   "execution_count": null,
   "metadata": {},
   "outputs": [],
   "source": [
    "print(one.shape)\n",
    "\n",
    "print(f'Mean across axis 0: {}')\n",
    "\n",
    "print(one.shape)\n",
    "\n",
    "print(f'Mean across axis 1: {}')"
   ]
  },
  {
   "cell_type": "markdown",
   "metadata": {},
   "source": [
    "## Broadcasting (basics)\n",
    "\n",
    "**This is the most useful numpy feature thus far! This will become your bread-and-butter!**\n",
    "\n",
    "We will cover the basics now and revisit broadcasting in more detail in a few weeks."
   ]
  },
  {
   "cell_type": "markdown",
   "metadata": {},
   "source": [
    "### Broadcasting scalars\n",
    "\n",
    "As we saw, we can create an array of any size with any constant value WITHOUT ANY LOOPS. This is the simplest example of numpy **broadcasting** the scalar across the ndarray."
   ]
  },
  {
   "cell_type": "code",
   "execution_count": null,
   "metadata": {},
   "outputs": [],
   "source": [
    "# Example with basic arithmetic\n"
   ]
  },
  {
   "cell_type": "markdown",
   "metadata": {},
   "source": [
    "### Applying an operation to corresponding values in two arrays that have the same shape\n",
    "\n",
    "Broadcasting allows you to efficiently (*and in one line of code*) add, subtract, multiply, and perform other operations on corresponding values in two arrays."
   ]
  },
  {
   "cell_type": "markdown",
   "metadata": {},
   "source": [
    "#### Examples: subtracting arrays with several different shapes"
   ]
  },
  {
   "cell_type": "code",
   "execution_count": null,
   "metadata": {},
   "outputs": [],
   "source": [
    "# 1D arrays\n",
    "arr1 = np.arange(10)\n",
    "arr2 = 5*np.ones(10)\n",
    "print(f'arr1: {arr1}')\n",
    "print(f'arr2: {arr2}')\n",
    "print(f'Shape of arr1: {arr1.shape}')\n",
    "print(f'Shape of arr2: {arr2.shape}')\n",
    "\n",
    "print(arr3)\n",
    "print(f'Shape of arr3: {arr3.shape}')"
   ]
  },
  {
   "cell_type": "code",
   "execution_count": null,
   "metadata": {},
   "outputs": [],
   "source": [
    "# 2D arrays\n",
    "arr1 = np.array([[1, 2, 3], [4, 5, 6], [7, 8, 9]])\n",
    "arr2 = np.array([[1, 1, 1], [0, 0, 0], [2, 2, 2]])\n",
    "print(f'arr1:\\n{arr1}')\n",
    "print(f'arr2:\\n{arr2}')\n",
    "print(f'Shape of arr1: {arr1.shape}')\n",
    "print(f'Shape of arr2: {arr2.shape}')\n",
    "\n",
    "print(arr3)\n",
    "print(f'Shape of arr3: {arr3.shape}')"
   ]
  },
  {
   "cell_type": "markdown",
   "metadata": {},
   "source": [
    "### Singleton dimensions\n",
    "\n",
    "Sometimes you have a 1D array that has shape like `(blah,)` but you need to use broadcasting to subtract it with another array that has a shape of a **column vector** of a matrix `(blah, 1)`. Because the number of values in the two arrays match, you would think it would be possible to broadcast operations to corresponding values (e.g. subtract). BUT, broadcasting won't work like you want (let's try)."
   ]
  },
  {
   "cell_type": "code",
   "execution_count": null,
   "metadata": {},
   "outputs": [],
   "source": [
    "arr1 = np.arange(3)\n",
    "arr2 = np.array([[1], [2], [3]])\n",
    "print(f'arr1:\\n{arr1}')\n",
    "print(f'arr2:\\n{arr2}')\n",
    "print(f'arr1 shape: {arr1.shape}')\n",
    "print(f'arr2 shape: {arr2.shape}')\n",
    "print('Trying to broadcast arr1 - arr2...')\n"
   ]
  },
  {
   "cell_type": "markdown",
   "metadata": {},
   "source": [
    "To get broadcasting to subtract off corresponding values in the arrays, we need to add a **singleton dimension** — an extra 1 dimension to `arr1` so that the shape matches the other array and so that numpy interprets `arr1` also as a column vector."
   ]
  },
  {
   "cell_type": "code",
   "execution_count": null,
   "metadata": {},
   "outputs": [],
   "source": [
    "arr1 = np.arange(3)\n",
    "\n",
    "print(f'arr1:\\n{arr2}')\n",
    "print(f'arr1 shape: {arr1.shape}')\n",
    "print(f'arr2 shape: {arr2.shape}')\n",
    "print('Trying to broadcast arr1 - arr2...')\n",
    "arr3 = arr1 - arr2\n",
    "arr3"
   ]
  },
  {
   "cell_type": "markdown",
   "metadata": {},
   "source": [
    "### Squeeze: How to get of all singleton dimensions\n",
    "\n",
    "\"Undo\" a new axis / singleton dimension"
   ]
  },
  {
   "cell_type": "code",
   "execution_count": null,
   "metadata": {},
   "outputs": [],
   "source": [
    "\n",
    "print(f'arr1:\\n{arr2}')\n",
    "print(f'arr1 shape: {arr1.shape}')"
   ]
  },
  {
   "cell_type": "markdown",
   "metadata": {},
   "source": [
    "Removes ALL singleton dimensions (if you have more than one):"
   ]
  },
  {
   "cell_type": "code",
   "execution_count": null,
   "metadata": {},
   "outputs": [],
   "source": []
  },
  {
   "cell_type": "markdown",
   "metadata": {},
   "source": [
    "## Vectorization speed vs loops\n",
    "\n",
    "Time computation of summing a ndarray with loop vs vectorized."
   ]
  },
  {
   "cell_type": "code",
   "execution_count": null,
   "metadata": {},
   "outputs": [],
   "source": [
    "def timeit(fun):\n",
    "    '''Just a function to time the runtime of another function'''\n",
    "    def timer():\n",
    "        start = time.time()\n",
    "        fun()\n",
    "        end = time.time()\n",
    "        print(f'Took {end - start:.3} secs to run.')\n",
    "    return timer\n",
    "\n",
    "\n",
    "@timeit\n",
    "def sumLoop():\n",
    "    '''Use for loop to sum a row vector'''\n",
    "    longRow = np.array([i for i in range(1, 1000000)])\n",
    "    theSum = 0\n",
    "    for i in range(len(longRow)):\n",
    "        theSum += longRow[i]\n",
    "\n",
    "\n",
    "@timeit\n",
    "def sumVectorized():\n",
    "    '''Vectorized version of summing a row vector'''\n",
    "    longRow = np.array([i for i in range(1, 1000000)])\n",
    "    theSum = np.sum(longRow)"
   ]
  },
  {
   "cell_type": "code",
   "execution_count": null,
   "metadata": {},
   "outputs": [],
   "source": [
    "# Dynamic typing in python makes for loops with lots of small\n",
    "# operations slow\n",
    "print('sumLoop:')\n",
    "sumLoop()\n",
    "\n",
    "# Vectorization allows Numpy to stop searching at runtime\n",
    "# and use efficient pre-compiled functions to batch-process\n",
    "# the computation over the matrix\n",
    "print('sumVectorized:')\n",
    "sumVectorized()"
   ]
  },
  {
   "cell_type": "markdown",
   "metadata": {},
   "source": [
    "## Combining multiple ndarrays\n",
    "\n",
    "**Problem:**\n",
    "- You have two ndarrays and want to concatenate them\n",
    "- You have an ndarray and **want to append a column or row vector**"
   ]
  },
  {
   "attachments": {},
   "cell_type": "markdown",
   "metadata": {},
   "source": [
    "### Add/append a new column — \"stack horizontally\"\n",
    "\n",
    "**Mnemonic**: Columns go horizontally.\n",
    "\n",
    "Have `a`:\n",
    "\n",
    "    [[1, 2]\n",
    "     [3, 4]]\n",
    "and `b`\n",
    "\n",
    "    [[9]\n",
    "     [9]]\n",
    "    \n",
    "want to make:\n",
    "\n",
    "    [[1, 2, 9]\n",
    "     [3, 4, 9]]\n",
    "    \n",
    "i.e. stack horizontally. Could be two matrices (not just a matrix and a vector).\n",
    "\n",
    "**Caveat:** We need to make sure shapes are compatible for broadcasting:\n",
    "\n",
    "- Result shape = `(2, 3)`\n",
    "- We are starting with `a` shape: `(2, 2)`\n",
    "\n",
    "The shape of `b` needs to be `(2, 1)` (why?)"
   ]
  },
  {
   "cell_type": "code",
   "execution_count": null,
   "metadata": {},
   "outputs": [],
   "source": []
  },
  {
   "cell_type": "code",
   "execution_count": null,
   "metadata": {},
   "outputs": [],
   "source": []
  },
  {
   "cell_type": "markdown",
   "metadata": {},
   "source": [
    "## Sorting ndarrays\n",
    "\n",
    "Numpy allows you to quickly sort numbers or strings."
   ]
  },
  {
   "cell_type": "code",
   "execution_count": null,
   "metadata": {},
   "outputs": [],
   "source": [
    "# Let's sort this array of random values between 0 and 1.\n",
    "randArr = np.random.random(size=(100,))\n"
   ]
  },
  {
   "cell_type": "code",
   "execution_count": null,
   "metadata": {},
   "outputs": [],
   "source": [
    "# Let's sort this list of words that start with different letters from 'a' to 'z'\n",
    "word_list = ['leopard', 'apple', 'flamingo', 'giraffe', 'iguana', 'banana', 'yak', 'rhinoceros', 'zebra', 'cherry', \\\n",
    "             'jaguar', 'walrus', 'x-ray', 'hippo', 'narwhal', 'quokka', 'vulture', 'panda', 'squirrel', 'monkey', \\\n",
    "             'umbrella', 'ostrich', 'elephant', 'tiger', 'dog', 'kangaroo']\n"
   ]
  },
  {
   "cell_type": "markdown",
   "metadata": {},
   "source": [
    "To reverse the order of an ndarray, you can use Python-like negative indexing notation"
   ]
  },
  {
   "cell_type": "markdown",
   "metadata": {},
   "source": [
    "## Finding the index of the maximum item in an ndarray\n",
    "\n",
    "This will come up at times during the semester."
   ]
  },
  {
   "cell_type": "code",
   "execution_count": null,
   "metadata": {},
   "outputs": [
    {
     "name": "stdout",
     "output_type": "stream",
     "text": [
      "The INDEX of the max item in arr is 2.\n"
     ]
    }
   ],
   "source": [
    "arr = np.array([1, 3, 7, 5])\n",
    "print(f'The INDEX of the max item in arr is {}.')"
   ]
  }
 ],
 "metadata": {
  "kernelspec": {
   "display_name": "Python 3 (ipykernel)",
   "language": "python",
   "name": "python3"
  },
  "language_info": {
   "codemirror_mode": {
    "name": "ipython",
    "version": 3
   },
   "file_extension": ".py",
   "mimetype": "text/x-python",
   "name": "python",
   "nbconvert_exporter": "python",
   "pygments_lexer": "ipython3",
   "version": "3.11.5"
  },
  "vscode": {
   "interpreter": {
    "hash": "aee8b7b246df8f9039afb4144a1f6fd8d2ca17a180786b69acc140d282b71a49"
   }
  }
 },
 "nbformat": 4,
 "nbformat_minor": 4
}
